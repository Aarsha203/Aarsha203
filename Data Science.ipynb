{
  "nbformat": 4,
  "nbformat_minor": 0,
  "metadata": {
    "colab": {
      "provenance": [],
      "authorship_tag": "ABX9TyOdQnvDmjjC1Cwqz9ktygiE",
      "include_colab_link": true
    },
    "kernelspec": {
      "name": "python3",
      "display_name": "Python 3"
    },
    "language_info": {
      "name": "python"
    }
  },
  "cells": [
    {
      "cell_type": "markdown",
      "metadata": {
        "id": "view-in-github",
        "colab_type": "text"
      },
      "source": [
        "<a href=\"https://colab.research.google.com/github/Aarsha203/Aarsha203/blob/main/Data%20Science.ipynb\" target=\"_parent\"><img src=\"https://colab.research.google.com/assets/colab-badge.svg\" alt=\"Open In Colab\"/></a>"
      ]
    },
    {
      "cell_type": "code",
      "source": [
        "import matplotlib.pyplot as plt\n",
        "\n",
        "import networkx as nx  # for graphs\n",
        "\n",
        "import numpy as np  # for matrices\n",
        "\n",
        "import time\n",
        "\n",
        "\n",
        "\n",
        "import nglview as nv  # for 3D visualizations\n",
        "\n",
        "\n",
        "\n",
        "from rdkit import Chem\n",
        "\n",
        "from rdkit.Chem.Draw import IPythonConsole\n",
        "\n",
        "from rdkit.Chem import Draw\n",
        "\n",
        "from rdkit.Chem import AllChem, rdDistGeom\n",
        "\n",
        "from rdkit.Chem import rdFingerprintGenerator\n",
        "\n",
        "\n",
        "\n",
        "IPythonConsole.ipython_useSVG = True"
      ],
      "metadata": {
        "id": "BB2564XZkonJ"
      },
      "execution_count": 4,
      "outputs": []
    },
    {
      "cell_type": "code",
      "source": [
        "mol_paracetamol = Chem.MolFromSmiles(\"CC(=O)NC1=CC=C(C=C1)O\")\n",
        "\n",
        "mol_paracetamol"
      ],
      "metadata": {
        "colab": {
          "base_uri": "https://localhost:8080/",
          "height": 171
        },
        "id": "obBDjgayrUlF",
        "outputId": "7f5f905e-f018-4c3c-fb3e-5f4569ec667b"
      },
      "execution_count": 5,
      "outputs": [
        {
          "output_type": "execute_result",
          "data": {
            "text/plain": [
              "<rdkit.Chem.rdchem.Mol at 0x79620151d000>"
            ],
            "text/html": [
              "<?xml version='1.0' encoding='iso-8859-1'?>\n",
              "<svg version='1.1' baseProfile='full'\n",
              "              xmlns='http://www.w3.org/2000/svg'\n",
              "                      xmlns:rdkit='http://www.rdkit.org/xml'\n",
              "                      xmlns:xlink='http://www.w3.org/1999/xlink'\n",
              "                  xml:space='preserve'\n",
              "width='450px' height='150px' viewBox='0 0 450 150'>\n",
              "<!-- END OF HEADER -->\n",
              "<rect style='opacity:1.0;fill:#FFFFFF;stroke:none' width='450.0' height='150.0' x='0.0' y='0.0'> </rect>\n",
              "<path class='bond-0 atom-0 atom-1' d='M 48.5,88.9 L 106.0,73.5' style='fill:none;fill-rule:evenodd;stroke:#000000;stroke-width:2.0px;stroke-linecap:butt;stroke-linejoin:miter;stroke-opacity:1' />\n",
              "<path class='bond-1 atom-1 atom-2' d='M 109.6,77.1 L 116.2,52.5' style='fill:none;fill-rule:evenodd;stroke:#000000;stroke-width:2.0px;stroke-linecap:butt;stroke-linejoin:miter;stroke-opacity:1' />\n",
              "<path class='bond-1 atom-1 atom-2' d='M 116.2,52.5 L 122.8,27.9' style='fill:none;fill-rule:evenodd;stroke:#FF0000;stroke-width:2.0px;stroke-linecap:butt;stroke-linejoin:miter;stroke-opacity:1' />\n",
              "<path class='bond-1 atom-1 atom-2' d='M 101.0,74.8 L 107.6,50.2' style='fill:none;fill-rule:evenodd;stroke:#000000;stroke-width:2.0px;stroke-linecap:butt;stroke-linejoin:miter;stroke-opacity:1' />\n",
              "<path class='bond-1 atom-1 atom-2' d='M 107.6,50.2 L 114.2,25.6' style='fill:none;fill-rule:evenodd;stroke:#FF0000;stroke-width:2.0px;stroke-linecap:butt;stroke-linejoin:miter;stroke-opacity:1' />\n",
              "<path class='bond-2 atom-1 atom-3' d='M 106.0,73.5 L 122.9,90.3' style='fill:none;fill-rule:evenodd;stroke:#000000;stroke-width:2.0px;stroke-linecap:butt;stroke-linejoin:miter;stroke-opacity:1' />\n",
              "<path class='bond-2 atom-1 atom-3' d='M 122.9,90.3 L 139.7,107.2' style='fill:none;fill-rule:evenodd;stroke:#0000FF;stroke-width:2.0px;stroke-linecap:butt;stroke-linejoin:miter;stroke-opacity:1' />\n",
              "<path class='bond-3 atom-3 atom-4' d='M 156.4,113.3 L 181.0,106.7' style='fill:none;fill-rule:evenodd;stroke:#0000FF;stroke-width:2.0px;stroke-linecap:butt;stroke-linejoin:miter;stroke-opacity:1' />\n",
              "<path class='bond-3 atom-3 atom-4' d='M 181.0,106.7 L 205.5,100.1' style='fill:none;fill-rule:evenodd;stroke:#000000;stroke-width:2.0px;stroke-linecap:butt;stroke-linejoin:miter;stroke-opacity:1' />\n",
              "<path class='bond-4 atom-4 atom-5' d='M 205.5,100.1 L 220.9,42.7' style='fill:none;fill-rule:evenodd;stroke:#000000;stroke-width:2.0px;stroke-linecap:butt;stroke-linejoin:miter;stroke-opacity:1' />\n",
              "<path class='bond-4 atom-4 atom-5' d='M 215.5,97.5 L 228.2,50.0' style='fill:none;fill-rule:evenodd;stroke:#000000;stroke-width:2.0px;stroke-linecap:butt;stroke-linejoin:miter;stroke-opacity:1' />\n",
              "<path class='bond-5 atom-5 atom-6' d='M 220.9,42.7 L 278.4,27.3' style='fill:none;fill-rule:evenodd;stroke:#000000;stroke-width:2.0px;stroke-linecap:butt;stroke-linejoin:miter;stroke-opacity:1' />\n",
              "<path class='bond-6 atom-6 atom-7' d='M 278.4,27.3 L 320.5,69.4' style='fill:none;fill-rule:evenodd;stroke:#000000;stroke-width:2.0px;stroke-linecap:butt;stroke-linejoin:miter;stroke-opacity:1' />\n",
              "<path class='bond-6 atom-6 atom-7' d='M 275.7,37.2 L 310.5,72.0' style='fill:none;fill-rule:evenodd;stroke:#000000;stroke-width:2.0px;stroke-linecap:butt;stroke-linejoin:miter;stroke-opacity:1' />\n",
              "<path class='bond-7 atom-7 atom-8' d='M 320.5,69.4 L 305.1,126.8' style='fill:none;fill-rule:evenodd;stroke:#000000;stroke-width:2.0px;stroke-linecap:butt;stroke-linejoin:miter;stroke-opacity:1' />\n",
              "<path class='bond-8 atom-8 atom-9' d='M 305.1,126.8 L 247.6,142.2' style='fill:none;fill-rule:evenodd;stroke:#000000;stroke-width:2.0px;stroke-linecap:butt;stroke-linejoin:miter;stroke-opacity:1' />\n",
              "<path class='bond-8 atom-8 atom-9' d='M 297.8,119.5 L 250.3,132.3' style='fill:none;fill-rule:evenodd;stroke:#000000;stroke-width:2.0px;stroke-linecap:butt;stroke-linejoin:miter;stroke-opacity:1' />\n",
              "<path class='bond-9 atom-7 atom-10' d='M 320.5,69.4 L 344.3,63.0' style='fill:none;fill-rule:evenodd;stroke:#000000;stroke-width:2.0px;stroke-linecap:butt;stroke-linejoin:miter;stroke-opacity:1' />\n",
              "<path class='bond-9 atom-7 atom-10' d='M 344.3,63.0 L 368.2,56.6' style='fill:none;fill-rule:evenodd;stroke:#FF0000;stroke-width:2.0px;stroke-linecap:butt;stroke-linejoin:miter;stroke-opacity:1' />\n",
              "<path class='bond-10 atom-9 atom-4' d='M 247.6,142.2 L 205.5,100.1' style='fill:none;fill-rule:evenodd;stroke:#000000;stroke-width:2.0px;stroke-linecap:butt;stroke-linejoin:miter;stroke-opacity:1' />\n",
              "<path d='M 103.1,74.2 L 106.0,73.5 L 106.8,74.3' style='fill:none;stroke:#000000;stroke-width:2.0px;stroke-linecap:butt;stroke-linejoin:miter;stroke-opacity:1;' />\n",
              "<path d='M 220.2,45.6 L 220.9,42.7 L 223.8,41.9' style='fill:none;stroke:#000000;stroke-width:2.0px;stroke-linecap:butt;stroke-linejoin:miter;stroke-opacity:1;' />\n",
              "<path d='M 275.5,28.1 L 278.4,27.3 L 280.5,29.4' style='fill:none;stroke:#000000;stroke-width:2.0px;stroke-linecap:butt;stroke-linejoin:miter;stroke-opacity:1;' />\n",
              "<path d='M 305.8,123.9 L 305.1,126.8 L 302.2,127.6' style='fill:none;stroke:#000000;stroke-width:2.0px;stroke-linecap:butt;stroke-linejoin:miter;stroke-opacity:1;' />\n",
              "<path d='M 250.5,141.4 L 247.6,142.2 L 245.5,140.1' style='fill:none;stroke:#000000;stroke-width:2.0px;stroke-linecap:butt;stroke-linejoin:miter;stroke-opacity:1;' />\n",
              "<path class='atom-2' d='M 113.7 16.1\n",
              "Q 113.7 12.0, 115.7 9.8\n",
              "Q 117.7 7.5, 121.4 7.5\n",
              "Q 125.1 7.5, 127.1 9.8\n",
              "Q 129.1 12.0, 129.1 16.1\n",
              "Q 129.1 20.2, 127.1 22.5\n",
              "Q 125.1 24.8, 121.4 24.8\n",
              "Q 117.7 24.8, 115.7 22.5\n",
              "Q 113.7 20.2, 113.7 16.1\n",
              "M 121.4 22.9\n",
              "Q 124.0 22.9, 125.4 21.2\n",
              "Q 126.8 19.4, 126.8 16.1\n",
              "Q 126.8 12.8, 125.4 11.1\n",
              "Q 124.0 9.4, 121.4 9.4\n",
              "Q 118.8 9.4, 117.4 11.1\n",
              "Q 116.0 12.7, 116.0 16.1\n",
              "Q 116.0 19.5, 117.4 21.2\n",
              "Q 118.8 22.9, 121.4 22.9\n",
              "' fill='#FF0000'/>\n",
              "<path class='atom-3' d='M 144.3 107.1\n",
              "L 149.9 116.0\n",
              "Q 150.4 116.9, 151.3 118.5\n",
              "Q 152.2 120.1, 152.2 120.2\n",
              "L 152.2 107.1\n",
              "L 154.5 107.1\n",
              "L 154.5 124.0\n",
              "L 152.2 124.0\n",
              "L 146.2 114.2\n",
              "Q 145.5 113.1, 144.8 111.8\n",
              "Q 144.1 110.5, 143.9 110.0\n",
              "L 143.9 124.0\n",
              "L 141.7 124.0\n",
              "L 141.7 107.1\n",
              "L 144.3 107.1\n",
              "' fill='#0000FF'/>\n",
              "<path class='atom-3' d='M 141.5 125.7\n",
              "L 143.8 125.7\n",
              "L 143.8 132.8\n",
              "L 152.4 132.8\n",
              "L 152.4 125.7\n",
              "L 154.7 125.7\n",
              "L 154.7 142.5\n",
              "L 152.4 142.5\n",
              "L 152.4 134.7\n",
              "L 143.8 134.7\n",
              "L 143.8 142.5\n",
              "L 141.5 142.5\n",
              "L 141.5 125.7\n",
              "' fill='#0000FF'/>\n",
              "<path class='atom-10' d='M 370.2 54.0\n",
              "Q 370.2 50.0, 372.2 47.7\n",
              "Q 374.2 45.4, 377.9 45.4\n",
              "Q 381.7 45.4, 383.7 47.7\n",
              "Q 385.6 50.0, 385.6 54.0\n",
              "Q 385.6 58.1, 383.6 60.4\n",
              "Q 381.6 62.7, 377.9 62.7\n",
              "Q 374.2 62.7, 372.2 60.4\n",
              "Q 370.2 58.1, 370.2 54.0\n",
              "M 377.9 60.8\n",
              "Q 380.5 60.8, 381.9 59.1\n",
              "Q 383.3 57.4, 383.3 54.0\n",
              "Q 383.3 50.7, 381.9 49.0\n",
              "Q 380.5 47.3, 377.9 47.3\n",
              "Q 375.3 47.3, 373.9 49.0\n",
              "Q 372.6 50.7, 372.6 54.0\n",
              "Q 372.6 57.4, 373.9 59.1\n",
              "Q 375.3 60.8, 377.9 60.8\n",
              "' fill='#FF0000'/>\n",
              "<path class='atom-10' d='M 388.3 45.6\n",
              "L 390.6 45.6\n",
              "L 390.6 52.8\n",
              "L 399.2 52.8\n",
              "L 399.2 45.6\n",
              "L 401.5 45.6\n",
              "L 401.5 62.5\n",
              "L 399.2 62.5\n",
              "L 399.2 54.7\n",
              "L 390.6 54.7\n",
              "L 390.6 62.5\n",
              "L 388.3 62.5\n",
              "L 388.3 45.6\n",
              "' fill='#FF0000'/>\n",
              "</svg>\n"
            ],
            "image/svg+xml": "<?xml version='1.0' encoding='iso-8859-1'?>\n<svg version='1.1' baseProfile='full'\n              xmlns='http://www.w3.org/2000/svg'\n                      xmlns:rdkit='http://www.rdkit.org/xml'\n                      xmlns:xlink='http://www.w3.org/1999/xlink'\n                  xml:space='preserve'\nwidth='450px' height='150px' viewBox='0 0 450 150'>\n<!-- END OF HEADER -->\n<rect style='opacity:1.0;fill:#FFFFFF;stroke:none' width='450.0' height='150.0' x='0.0' y='0.0'> </rect>\n<path class='bond-0 atom-0 atom-1' d='M 48.5,88.9 L 106.0,73.5' style='fill:none;fill-rule:evenodd;stroke:#000000;stroke-width:2.0px;stroke-linecap:butt;stroke-linejoin:miter;stroke-opacity:1' />\n<path class='bond-1 atom-1 atom-2' d='M 109.6,77.1 L 116.2,52.5' style='fill:none;fill-rule:evenodd;stroke:#000000;stroke-width:2.0px;stroke-linecap:butt;stroke-linejoin:miter;stroke-opacity:1' />\n<path class='bond-1 atom-1 atom-2' d='M 116.2,52.5 L 122.8,27.9' style='fill:none;fill-rule:evenodd;stroke:#FF0000;stroke-width:2.0px;stroke-linecap:butt;stroke-linejoin:miter;stroke-opacity:1' />\n<path class='bond-1 atom-1 atom-2' d='M 101.0,74.8 L 107.6,50.2' style='fill:none;fill-rule:evenodd;stroke:#000000;stroke-width:2.0px;stroke-linecap:butt;stroke-linejoin:miter;stroke-opacity:1' />\n<path class='bond-1 atom-1 atom-2' d='M 107.6,50.2 L 114.2,25.6' style='fill:none;fill-rule:evenodd;stroke:#FF0000;stroke-width:2.0px;stroke-linecap:butt;stroke-linejoin:miter;stroke-opacity:1' />\n<path class='bond-2 atom-1 atom-3' d='M 106.0,73.5 L 122.9,90.3' style='fill:none;fill-rule:evenodd;stroke:#000000;stroke-width:2.0px;stroke-linecap:butt;stroke-linejoin:miter;stroke-opacity:1' />\n<path class='bond-2 atom-1 atom-3' d='M 122.9,90.3 L 139.7,107.2' style='fill:none;fill-rule:evenodd;stroke:#0000FF;stroke-width:2.0px;stroke-linecap:butt;stroke-linejoin:miter;stroke-opacity:1' />\n<path class='bond-3 atom-3 atom-4' d='M 156.4,113.3 L 181.0,106.7' style='fill:none;fill-rule:evenodd;stroke:#0000FF;stroke-width:2.0px;stroke-linecap:butt;stroke-linejoin:miter;stroke-opacity:1' />\n<path class='bond-3 atom-3 atom-4' d='M 181.0,106.7 L 205.5,100.1' style='fill:none;fill-rule:evenodd;stroke:#000000;stroke-width:2.0px;stroke-linecap:butt;stroke-linejoin:miter;stroke-opacity:1' />\n<path class='bond-4 atom-4 atom-5' d='M 205.5,100.1 L 220.9,42.7' style='fill:none;fill-rule:evenodd;stroke:#000000;stroke-width:2.0px;stroke-linecap:butt;stroke-linejoin:miter;stroke-opacity:1' />\n<path class='bond-4 atom-4 atom-5' d='M 215.5,97.5 L 228.2,50.0' style='fill:none;fill-rule:evenodd;stroke:#000000;stroke-width:2.0px;stroke-linecap:butt;stroke-linejoin:miter;stroke-opacity:1' />\n<path class='bond-5 atom-5 atom-6' d='M 220.9,42.7 L 278.4,27.3' style='fill:none;fill-rule:evenodd;stroke:#000000;stroke-width:2.0px;stroke-linecap:butt;stroke-linejoin:miter;stroke-opacity:1' />\n<path class='bond-6 atom-6 atom-7' d='M 278.4,27.3 L 320.5,69.4' style='fill:none;fill-rule:evenodd;stroke:#000000;stroke-width:2.0px;stroke-linecap:butt;stroke-linejoin:miter;stroke-opacity:1' />\n<path class='bond-6 atom-6 atom-7' d='M 275.7,37.2 L 310.5,72.0' style='fill:none;fill-rule:evenodd;stroke:#000000;stroke-width:2.0px;stroke-linecap:butt;stroke-linejoin:miter;stroke-opacity:1' />\n<path class='bond-7 atom-7 atom-8' d='M 320.5,69.4 L 305.1,126.8' style='fill:none;fill-rule:evenodd;stroke:#000000;stroke-width:2.0px;stroke-linecap:butt;stroke-linejoin:miter;stroke-opacity:1' />\n<path class='bond-8 atom-8 atom-9' d='M 305.1,126.8 L 247.6,142.2' style='fill:none;fill-rule:evenodd;stroke:#000000;stroke-width:2.0px;stroke-linecap:butt;stroke-linejoin:miter;stroke-opacity:1' />\n<path class='bond-8 atom-8 atom-9' d='M 297.8,119.5 L 250.3,132.3' style='fill:none;fill-rule:evenodd;stroke:#000000;stroke-width:2.0px;stroke-linecap:butt;stroke-linejoin:miter;stroke-opacity:1' />\n<path class='bond-9 atom-7 atom-10' d='M 320.5,69.4 L 344.3,63.0' style='fill:none;fill-rule:evenodd;stroke:#000000;stroke-width:2.0px;stroke-linecap:butt;stroke-linejoin:miter;stroke-opacity:1' />\n<path class='bond-9 atom-7 atom-10' d='M 344.3,63.0 L 368.2,56.6' style='fill:none;fill-rule:evenodd;stroke:#FF0000;stroke-width:2.0px;stroke-linecap:butt;stroke-linejoin:miter;stroke-opacity:1' />\n<path class='bond-10 atom-9 atom-4' d='M 247.6,142.2 L 205.5,100.1' style='fill:none;fill-rule:evenodd;stroke:#000000;stroke-width:2.0px;stroke-linecap:butt;stroke-linejoin:miter;stroke-opacity:1' />\n<path d='M 103.1,74.2 L 106.0,73.5 L 106.8,74.3' style='fill:none;stroke:#000000;stroke-width:2.0px;stroke-linecap:butt;stroke-linejoin:miter;stroke-opacity:1;' />\n<path d='M 220.2,45.6 L 220.9,42.7 L 223.8,41.9' style='fill:none;stroke:#000000;stroke-width:2.0px;stroke-linecap:butt;stroke-linejoin:miter;stroke-opacity:1;' />\n<path d='M 275.5,28.1 L 278.4,27.3 L 280.5,29.4' style='fill:none;stroke:#000000;stroke-width:2.0px;stroke-linecap:butt;stroke-linejoin:miter;stroke-opacity:1;' />\n<path d='M 305.8,123.9 L 305.1,126.8 L 302.2,127.6' style='fill:none;stroke:#000000;stroke-width:2.0px;stroke-linecap:butt;stroke-linejoin:miter;stroke-opacity:1;' />\n<path d='M 250.5,141.4 L 247.6,142.2 L 245.5,140.1' style='fill:none;stroke:#000000;stroke-width:2.0px;stroke-linecap:butt;stroke-linejoin:miter;stroke-opacity:1;' />\n<path class='atom-2' d='M 113.7 16.1\nQ 113.7 12.0, 115.7 9.8\nQ 117.7 7.5, 121.4 7.5\nQ 125.1 7.5, 127.1 9.8\nQ 129.1 12.0, 129.1 16.1\nQ 129.1 20.2, 127.1 22.5\nQ 125.1 24.8, 121.4 24.8\nQ 117.7 24.8, 115.7 22.5\nQ 113.7 20.2, 113.7 16.1\nM 121.4 22.9\nQ 124.0 22.9, 125.4 21.2\nQ 126.8 19.4, 126.8 16.1\nQ 126.8 12.8, 125.4 11.1\nQ 124.0 9.4, 121.4 9.4\nQ 118.8 9.4, 117.4 11.1\nQ 116.0 12.7, 116.0 16.1\nQ 116.0 19.5, 117.4 21.2\nQ 118.8 22.9, 121.4 22.9\n' fill='#FF0000'/>\n<path class='atom-3' d='M 144.3 107.1\nL 149.9 116.0\nQ 150.4 116.9, 151.3 118.5\nQ 152.2 120.1, 152.2 120.2\nL 152.2 107.1\nL 154.5 107.1\nL 154.5 124.0\nL 152.2 124.0\nL 146.2 114.2\nQ 145.5 113.1, 144.8 111.8\nQ 144.1 110.5, 143.9 110.0\nL 143.9 124.0\nL 141.7 124.0\nL 141.7 107.1\nL 144.3 107.1\n' fill='#0000FF'/>\n<path class='atom-3' d='M 141.5 125.7\nL 143.8 125.7\nL 143.8 132.8\nL 152.4 132.8\nL 152.4 125.7\nL 154.7 125.7\nL 154.7 142.5\nL 152.4 142.5\nL 152.4 134.7\nL 143.8 134.7\nL 143.8 142.5\nL 141.5 142.5\nL 141.5 125.7\n' fill='#0000FF'/>\n<path class='atom-10' d='M 370.2 54.0\nQ 370.2 50.0, 372.2 47.7\nQ 374.2 45.4, 377.9 45.4\nQ 381.7 45.4, 383.7 47.7\nQ 385.6 50.0, 385.6 54.0\nQ 385.6 58.1, 383.6 60.4\nQ 381.6 62.7, 377.9 62.7\nQ 374.2 62.7, 372.2 60.4\nQ 370.2 58.1, 370.2 54.0\nM 377.9 60.8\nQ 380.5 60.8, 381.9 59.1\nQ 383.3 57.4, 383.3 54.0\nQ 383.3 50.7, 381.9 49.0\nQ 380.5 47.3, 377.9 47.3\nQ 375.3 47.3, 373.9 49.0\nQ 372.6 50.7, 372.6 54.0\nQ 372.6 57.4, 373.9 59.1\nQ 375.3 60.8, 377.9 60.8\n' fill='#FF0000'/>\n<path class='atom-10' d='M 388.3 45.6\nL 390.6 45.6\nL 390.6 52.8\nL 399.2 52.8\nL 399.2 45.6\nL 401.5 45.6\nL 401.5 62.5\nL 399.2 62.5\nL 399.2 54.7\nL 390.6 54.7\nL 390.6 62.5\nL 388.3 62.5\nL 388.3 45.6\n' fill='#FF0000'/>\n</svg>\n",
            "image/png": "[encoded data removed]"
          },
          "metadata": {},
          "execution_count": 5
        }
      ]
    },
    {
      "cell_type": "code",
      "source": [
        "mol1 = Chem.MolFromSmiles(\"CC[CH](C)O\")  # without chiral information\n",
        "\n",
        "mol2 = Chem.MolFromSmiles(\"CC[C@H](C)O\")  # enantiomer 1\n",
        "\n",
        "mol3 = Chem.MolFromSmiles(\"CC[C@@H](C)O\")  # enantiomer 2\n",
        "\n",
        "\n",
        "\n",
        "Draw.MolsToGridImage([mol1, mol2, mol3], molsPerRow=3, subImgSize=(200, 200))"
      ],
      "metadata": {
        "colab": {
          "base_uri": "https://localhost:8080/",
          "height": 221
        },
        "id": "vcqPui2vtYw-",
        "outputId": "ef949bfe-fd0b-4c49-d9e6-bb9a0f88d132"
      },
      "execution_count": 6,
      "outputs": [
        {
          "output_type": "execute_result",
          "data": {
            "text/plain": [
              "<IPython.core.display.SVG object>"
            ],
            "image/svg+xml": "<svg xmlns=\"http://www.w3.org/2000/svg\" xmlns:rdkit=\"http://www.rdkit.org/xml\" xmlns:xlink=\"http://www.w3.org/1999/xlink\" version=\"1.1\" baseProfile=\"full\" xml:space=\"preserve\" width=\"600px\" height=\"200px\" viewBox=\"0 0 600 200\">\n<!-- END OF HEADER -->\n<rect style=\"opacity:1.0;fill:#FFFFFF;stroke:none\" width=\"600.0\" height=\"200.0\" x=\"0.0\" y=\"0.0\"> </rect>\n<path class=\"bond-0 atom-0 atom-1\" d=\"M 11.3,77.9 L 70.4,43.7\" style=\"fill:none;fill-rule:evenodd;stroke:#000000;stroke-width:2.0px;stroke-linecap:butt;stroke-linejoin:miter;stroke-opacity:1\"/>\n<path class=\"bond-1 atom-1 atom-2\" d=\"M 70.4,43.7 L 129.6,77.9\" style=\"fill:none;fill-rule:evenodd;stroke:#000000;stroke-width:2.0px;stroke-linecap:butt;stroke-linejoin:miter;stroke-opacity:1\"/>\n<path class=\"bond-2 atom-2 atom-3\" d=\"M 129.6,77.9 L 188.7,43.7\" style=\"fill:none;fill-rule:evenodd;stroke:#000000;stroke-width:2.0px;stroke-linecap:butt;stroke-linejoin:miter;stroke-opacity:1\"/>\n<path class=\"bond-3 atom-2 atom-4\" d=\"M 129.6,77.9 L 129.6,106.0\" style=\"fill:none;fill-rule:evenodd;stroke:#000000;stroke-width:2.0px;stroke-linecap:butt;stroke-linejoin:miter;stroke-opacity:1\"/>\n<path class=\"bond-3 atom-2 atom-4\" d=\"M 129.6,106.0 L 129.6,134.1\" style=\"fill:none;fill-rule:evenodd;stroke:#FF0000;stroke-width:2.0px;stroke-linecap:butt;stroke-linejoin:miter;stroke-opacity:1\"/>\n<path d=\"M 67.5,45.4 L 70.4,43.7 L 73.4,45.4\" style=\"fill:none;stroke:#000000;stroke-width:2.0px;stroke-linecap:butt;stroke-linejoin:miter;stroke-opacity:1;\"/>\n<path class=\"atom-4\" d=\"M 120.7 146.2 Q 120.7 141.6, 123.0 139.0 Q 125.3 136.4, 129.6 136.4 Q 133.9 136.4, 136.2 139.0 Q 138.5 141.6, 138.5 146.2 Q 138.5 150.9, 136.1 153.6 Q 133.8 156.3, 129.6 156.3 Q 125.3 156.3, 123.0 153.6 Q 120.7 151.0, 120.7 146.2 M 129.6 154.1 Q 132.5 154.1, 134.1 152.1 Q 135.7 150.1, 135.7 146.2 Q 135.7 142.4, 134.1 140.5 Q 132.5 138.6, 129.6 138.6 Q 126.6 138.6, 125.0 140.5 Q 123.4 142.4, 123.4 146.2 Q 123.4 150.1, 125.0 152.1 Q 126.6 154.1, 129.6 154.1 \" fill=\"#FF0000\"/>\n<path class=\"atom-4\" d=\"M 141.5 136.6 L 144.1 136.6 L 144.1 144.8 L 154.0 144.8 L 154.0 136.6 L 156.6 136.6 L 156.6 156.0 L 154.0 156.0 L 154.0 147.0 L 144.1 147.0 L 144.1 156.0 L 141.5 156.0 L 141.5 136.6 \" fill=\"#FF0000\"/>\n<path class=\"bond-0 atom-0 atom-1\" d=\"M 210.0,80.1 L 269.1,46.0\" style=\"fill:none;fill-rule:evenodd;stroke:#000000;stroke-width:2.0px;stroke-linecap:butt;stroke-linejoin:miter;stroke-opacity:1\"/>\n<path class=\"bond-1 atom-1 atom-2\" d=\"M 269.1,46.0 L 328.3,80.1\" style=\"fill:none;fill-rule:evenodd;stroke:#000000;stroke-width:2.0px;stroke-linecap:butt;stroke-linejoin:miter;stroke-opacity:1\"/>\n<path class=\"bond-2 atom-2 atom-3\" d=\"M 331.1,78.2 L 331.4,78.6\" style=\"fill:none;fill-rule:evenodd;stroke:#000000;stroke-width:1.0px;stroke-linecap:butt;stroke-linejoin:miter;stroke-opacity:1\"/>\n<path class=\"bond-2 atom-2 atom-3\" d=\"M 334.0,76.2 L 334.5,77.1\" style=\"fill:none;fill-rule:evenodd;stroke:#000000;stroke-width:1.0px;stroke-linecap:butt;stroke-linejoin:miter;stroke-opacity:1\"/>\n<path class=\"bond-2 atom-2 atom-3\" d=\"M 336.8,74.3 L 337.5,75.6\" style=\"fill:none;fill-rule:evenodd;stroke:#000000;stroke-width:1.0px;stroke-linecap:butt;stroke-linejoin:miter;stroke-opacity:1\"/>\n<path class=\"bond-2 atom-2 atom-3\" d=\"M 339.6,72.4 L 340.6,74.2\" style=\"fill:none;fill-rule:evenodd;stroke:#000000;stroke-width:1.0px;stroke-linecap:butt;stroke-linejoin:miter;stroke-opacity:1\"/>\n<path class=\"bond-2 atom-2 atom-3\" d=\"M 342.4,70.5 L 343.7,72.7\" style=\"fill:none;fill-rule:evenodd;stroke:#000000;stroke-width:1.0px;stroke-linecap:butt;stroke-linejoin:miter;stroke-opacity:1\"/>\n<path class=\"bond-2 atom-2 atom-3\" d=\"M 345.3,68.5 L 346.8,71.2\" style=\"fill:none;fill-rule:evenodd;stroke:#000000;stroke-width:1.0px;stroke-linecap:butt;stroke-linejoin:miter;stroke-opacity:1\"/>\n<path class=\"bond-2 atom-2 atom-3\" d=\"M 348.1,66.6 L 349.9,69.7\" style=\"fill:none;fill-rule:evenodd;stroke:#000000;stroke-width:1.0px;stroke-linecap:butt;stroke-linejoin:miter;stroke-opacity:1\"/>\n<path class=\"bond-2 atom-2 atom-3\" d=\"M 350.9,64.7 L 353.0,68.2\" style=\"fill:none;fill-rule:evenodd;stroke:#000000;stroke-width:1.0px;stroke-linecap:butt;stroke-linejoin:miter;stroke-opacity:1\"/>\n<path class=\"bond-2 atom-2 atom-3\" d=\"M 353.8,62.7 L 356.1,66.7\" style=\"fill:none;fill-rule:evenodd;stroke:#000000;stroke-width:1.0px;stroke-linecap:butt;stroke-linejoin:miter;stroke-opacity:1\"/>\n<path class=\"bond-2 atom-2 atom-3\" d=\"M 356.6,60.8 L 359.1,65.2\" style=\"fill:none;fill-rule:evenodd;stroke:#000000;stroke-width:1.0px;stroke-linecap:butt;stroke-linejoin:miter;stroke-opacity:1\"/>\n<path class=\"bond-2 atom-2 atom-3\" d=\"M 359.4,58.9 L 362.2,63.8\" style=\"fill:none;fill-rule:evenodd;stroke:#000000;stroke-width:1.0px;stroke-linecap:butt;stroke-linejoin:miter;stroke-opacity:1\"/>\n<path class=\"bond-2 atom-2 atom-3\" d=\"M 362.2,57.0 L 365.3,62.3\" style=\"fill:none;fill-rule:evenodd;stroke:#000000;stroke-width:1.0px;stroke-linecap:butt;stroke-linejoin:miter;stroke-opacity:1\"/>\n<path class=\"bond-2 atom-2 atom-3\" d=\"M 365.1,55.0 L 368.4,60.8\" style=\"fill:none;fill-rule:evenodd;stroke:#000000;stroke-width:1.0px;stroke-linecap:butt;stroke-linejoin:miter;stroke-opacity:1\"/>\n<path class=\"bond-2 atom-2 atom-3\" d=\"M 367.9,53.1 L 371.5,59.3\" style=\"fill:none;fill-rule:evenodd;stroke:#000000;stroke-width:1.0px;stroke-linecap:butt;stroke-linejoin:miter;stroke-opacity:1\"/>\n<path class=\"bond-2 atom-2 atom-3\" d=\"M 370.7,51.2 L 374.6,57.8\" style=\"fill:none;fill-rule:evenodd;stroke:#000000;stroke-width:1.0px;stroke-linecap:butt;stroke-linejoin:miter;stroke-opacity:1\"/>\n<path class=\"bond-2 atom-2 atom-3\" d=\"M 373.6,49.2 L 377.7,56.3\" style=\"fill:none;fill-rule:evenodd;stroke:#000000;stroke-width:1.0px;stroke-linecap:butt;stroke-linejoin:miter;stroke-opacity:1\"/>\n<path class=\"bond-2 atom-2 atom-3\" d=\"M 376.4,47.3 L 380.7,54.8\" style=\"fill:none;fill-rule:evenodd;stroke:#000000;stroke-width:1.0px;stroke-linecap:butt;stroke-linejoin:miter;stroke-opacity:1\"/>\n<path class=\"bond-2 atom-2 atom-3\" d=\"M 379.2,45.4 L 383.8,53.4\" style=\"fill:none;fill-rule:evenodd;stroke:#000000;stroke-width:1.0px;stroke-linecap:butt;stroke-linejoin:miter;stroke-opacity:1\"/>\n<path class=\"bond-2 atom-2 atom-3\" d=\"M 382.0,43.4 L 386.9,51.9\" style=\"fill:none;fill-rule:evenodd;stroke:#000000;stroke-width:1.0px;stroke-linecap:butt;stroke-linejoin:miter;stroke-opacity:1\"/>\n<path class=\"bond-2 atom-2 atom-3\" d=\"M 384.9,41.5 L 390.0,50.4\" style=\"fill:none;fill-rule:evenodd;stroke:#000000;stroke-width:1.0px;stroke-linecap:butt;stroke-linejoin:miter;stroke-opacity:1\"/>\n<path class=\"bond-3 atom-2 atom-4\" d=\"M 328.3,80.1 L 328.3,108.2\" style=\"fill:none;fill-rule:evenodd;stroke:#000000;stroke-width:2.0px;stroke-linecap:butt;stroke-linejoin:miter;stroke-opacity:1\"/>\n<path class=\"bond-3 atom-2 atom-4\" d=\"M 328.3,108.2 L 328.3,136.4\" style=\"fill:none;fill-rule:evenodd;stroke:#FF0000;stroke-width:2.0px;stroke-linecap:butt;stroke-linejoin:miter;stroke-opacity:1\"/>\n<path d=\"M 266.2,47.7 L 269.1,46.0 L 272.1,47.7\" style=\"fill:none;stroke:#000000;stroke-width:2.0px;stroke-linecap:butt;stroke-linejoin:miter;stroke-opacity:1;\"/>\n<path d=\"M 325.3,78.4 L 328.3,80.1 L 328.3,81.5\" style=\"fill:none;stroke:#000000;stroke-width:2.0px;stroke-linecap:butt;stroke-linejoin:miter;stroke-opacity:1;\"/>\n<path class=\"atom-4\" d=\"M 319.4 148.5 Q 319.4 143.8, 321.7 141.2 Q 324.0 138.6, 328.3 138.6 Q 332.6 138.6, 334.9 141.2 Q 337.2 143.8, 337.2 148.5 Q 337.2 153.2, 334.8 155.8 Q 332.5 158.5, 328.3 158.5 Q 324.0 158.5, 321.7 155.8 Q 319.4 153.2, 319.4 148.5 M 328.3 156.3 Q 331.2 156.3, 332.8 154.3 Q 334.4 152.3, 334.4 148.5 Q 334.4 144.7, 332.8 142.7 Q 331.2 140.8, 328.3 140.8 Q 325.3 140.8, 323.7 142.7 Q 322.1 144.6, 322.1 148.5 Q 322.1 152.4, 323.7 154.3 Q 325.3 156.3, 328.3 156.3 \" fill=\"#FF0000\"/>\n<path class=\"atom-4\" d=\"M 340.2 138.8 L 342.8 138.8 L 342.8 147.1 L 352.7 147.1 L 352.7 138.8 L 355.3 138.8 L 355.3 158.2 L 352.7 158.2 L 352.7 149.2 L 342.8 149.2 L 342.8 158.2 L 340.2 158.2 L 340.2 138.8 \" fill=\"#FF0000\"/>\n<path class=\"bond-0 atom-0 atom-1\" d=\"M 410.0,80.1 L 469.1,46.0\" style=\"fill:none;fill-rule:evenodd;stroke:#000000;stroke-width:2.0px;stroke-linecap:butt;stroke-linejoin:miter;stroke-opacity:1\"/>\n<path class=\"bond-1 atom-1 atom-2\" d=\"M 469.1,46.0 L 528.3,80.1\" style=\"fill:none;fill-rule:evenodd;stroke:#000000;stroke-width:2.0px;stroke-linecap:butt;stroke-linejoin:miter;stroke-opacity:1\"/>\n<path class=\"bond-2 atom-2 atom-3\" d=\"M 528.3,80.1 L 584.9,41.5 L 590.0,50.4 Z\" style=\"fill:#000000;fill-rule:evenodd;fill-opacity:1;stroke:#000000;stroke-width:0.5px;stroke-linecap:butt;stroke-linejoin:miter;stroke-opacity:1;\"/>\n<path class=\"bond-3 atom-2 atom-4\" d=\"M 528.3,80.1 L 528.3,108.2\" style=\"fill:none;fill-rule:evenodd;stroke:#000000;stroke-width:2.0px;stroke-linecap:butt;stroke-linejoin:miter;stroke-opacity:1\"/>\n<path class=\"bond-3 atom-2 atom-4\" d=\"M 528.3,108.2 L 528.3,136.4\" style=\"fill:none;fill-rule:evenodd;stroke:#FF0000;stroke-width:2.0px;stroke-linecap:butt;stroke-linejoin:miter;stroke-opacity:1\"/>\n<path d=\"M 466.2,47.7 L 469.1,46.0 L 472.1,47.7\" style=\"fill:none;stroke:#000000;stroke-width:2.0px;stroke-linecap:butt;stroke-linejoin:miter;stroke-opacity:1;\"/>\n<path d=\"M 525.3,78.4 L 528.3,80.1 L 528.3,81.5\" style=\"fill:none;stroke:#000000;stroke-width:2.0px;stroke-linecap:butt;stroke-linejoin:miter;stroke-opacity:1;\"/>\n<path class=\"atom-4\" d=\"M 519.4 148.5 Q 519.4 143.8, 521.7 141.2 Q 524.0 138.6, 528.3 138.6 Q 532.6 138.6, 534.9 141.2 Q 537.2 143.8, 537.2 148.5 Q 537.2 153.2, 534.8 155.8 Q 532.5 158.5, 528.3 158.5 Q 524.0 158.5, 521.7 155.8 Q 519.4 153.2, 519.4 148.5 M 528.3 156.3 Q 531.2 156.3, 532.8 154.3 Q 534.4 152.3, 534.4 148.5 Q 534.4 144.7, 532.8 142.7 Q 531.2 140.8, 528.3 140.8 Q 525.3 140.8, 523.7 142.7 Q 522.1 144.6, 522.1 148.5 Q 522.1 152.4, 523.7 154.3 Q 525.3 156.3, 528.3 156.3 \" fill=\"#FF0000\"/>\n<path class=\"atom-4\" d=\"M 540.2 138.8 L 542.8 138.8 L 542.8 147.1 L 552.7 147.1 L 552.7 138.8 L 555.3 138.8 L 555.3 158.2 L 552.7 158.2 L 552.7 149.2 L 542.8 149.2 L 542.8 158.2 L 540.2 158.2 L 540.2 138.8 \" fill=\"#FF0000\"/>\n</svg>"
          },
          "metadata": {},
          "execution_count": 6
        }
      ]
    },
    {
      "cell_type": "code",
      "source": [
        "paracetamol = Chem.MolFromSmiles(\"CC(=O)NC1=CC=C(C=C1)O\")"
      ],
      "metadata": {
        "id": "ielZhNCpyJrV"
      },
      "execution_count": 7,
      "outputs": []
    },
    {
      "cell_type": "code",
      "source": [
        "paracetamol_h = Chem.AddHs(paracetamol)\n",
        "\n",
        "# generate conformers\n",
        "\n",
        "ps = rdDistGeom.ETKDGv3()\n",
        "\n",
        "ps.randomSeed = 0xD06F00D\n",
        "\n",
        "ps.numThreads = 10\n",
        "\n",
        "conf_ids = rdDistGeom.EmbedMultipleConfs(paracetamol_h, 200, ps)\n",
        "\n",
        "len(conf_ids)"
      ],
      "metadata": {
        "colab": {
          "base_uri": "https://localhost:8080/"
        },
        "id": "WsNOhMStyMlq",
        "outputId": "e27756eb-601d-4939-b47c-7af24195055a"
      },
      "execution_count": 8,
      "outputs": [
        {
          "output_type": "execute_result",
          "data": {
            "text/plain": [
              "200"
            ]
          },
          "metadata": {},
          "execution_count": 8
        }
      ]
    },
    {
      "cell_type": "code",
      "source": [
        "para_3d = Chem.RemoveHs(paracetamol_h)"
      ],
      "metadata": {
        "id": "JzU2jKUfyP5e"
      },
      "execution_count": 9,
      "outputs": []
    },
    {
      "cell_type": "code",
      "source": [
        "para_3d.GetConformer(0).GetPositions()"
      ],
      "metadata": {
        "colab": {
          "base_uri": "https://localhost:8080/"
        },
        "id": "W-Yxli48ySz4",
        "outputId": "94c41848-1882-44fe-8918-f4e39ba6d600"
      },
      "execution_count": 10,
      "outputs": [
        {
          "output_type": "execute_result",
          "data": {
            "text/plain": [
              "array([[-3.77712217, -0.03510146, -0.13412044],\n",
              "       [-2.34555317, -0.44618384, -0.17423152],\n",
              "       [-2.10027922, -1.58828959, -0.61969035],\n",
              "       [-1.33723681,  0.423277  ,  0.27184909],\n",
              "       [ 0.04865287,  0.16326697,  0.28948169],\n",
              "       [ 0.66487277, -0.97790834, -0.12233655],\n",
              "       [ 2.04422526, -1.13818769, -0.06451744],\n",
              "       [ 2.82919258, -0.14256956,  0.41309467],\n",
              "       [ 2.24305163,  1.01961321,  0.83619605],\n",
              "       [ 0.88091068,  1.17414783,  0.777569  ],\n",
              "       [ 4.20523396, -0.28668043,  0.47723499]])"
            ]
          },
          "metadata": {},
          "execution_count": 10
        }
      ]
    }
  ]
}